{
 "cells": [
  {
   "cell_type": "markdown",
   "metadata": {},
   "source": [
    "\n",
    "# Eve"
   ]
  },
  {
   "cell_type": "code",
   "execution_count": 7,
   "metadata": {},
   "outputs": [
    {
     "name": "stdout",
     "output_type": "stream",
     "text": [
      "\u001b[33mThe directory '/home/vagrant/.cache/pip/http' or its parent directory is not owned by the current user and the cache has been disabled. Please check the permissions and owner of that directory. If executing pip with sudo, you may want sudo's -H flag.\u001b[0m\n",
      "\u001b[33mThe directory '/home/vagrant/.cache/pip' or its parent directory is not owned by the current user and caching wheels has been disabled. check the permissions and owner of that directory. If executing pip with sudo, you may want sudo's -H flag.\u001b[0m\n",
      "Requirement already satisfied: eve in /opt/anaconda/lib/python2.7/site-packages\n",
      "Requirement already satisfied: cerberus>=1.1 in /opt/anaconda/lib/python2.7/site-packages (from eve)\n",
      "Requirement already satisfied: events<0.4,>=0.3 in /opt/anaconda/lib/python2.7/site-packages (from eve)\n",
      "Requirement already satisfied: simplejson<4.0,>=3.3.0 in /opt/anaconda/lib/python2.7/site-packages (from eve)\n",
      "Requirement already satisfied: werkzeug<=0.11.15,>=0.9.4 in /opt/anaconda/lib/python2.7/site-packages (from eve)\n",
      "Requirement already satisfied: markupsafe<1.0,>=0.23 in /opt/anaconda/lib/python2.7/site-packages (from eve)\n",
      "Requirement already satisfied: jinja2<3.0,>=2.8 in /opt/anaconda/lib/python2.7/site-packages (from eve)\n",
      "Requirement already satisfied: itsdangerous<1.0,>=0.24 in /opt/anaconda/lib/python2.7/site-packages (from eve)\n",
      "Requirement already satisfied: flask<=0.12,>=0.10.1 in /opt/anaconda/lib/python2.7/site-packages (from eve)\n",
      "Requirement already satisfied: pymongo>=3.4 in /opt/anaconda/lib/python2.7/site-packages (from eve)\n",
      "Requirement already satisfied: backport_collections>=0.1 in /opt/anaconda/lib/python2.7/site-packages (from eve)\n",
      "Requirement already satisfied: click>=2.0 in /opt/anaconda/lib/python2.7/site-packages (from flask<=0.12,>=0.10.1->eve)\n"
     ]
    }
   ],
   "source": [
    "!sudo /opt/anaconda/bin/pip install eve"
   ]
  },
  {
   "cell_type": "code",
   "execution_count": 10,
   "metadata": {},
   "outputs": [
    {
     "name": "stdout",
     "output_type": "stream",
     "text": [
      "Overwriting files/start.py\n"
     ]
    }
   ],
   "source": [
    "%%writefile files/start.py\n",
    "\n",
    "from eve import Eve\n",
    "app = Eve()\n",
    "\n",
    "if __name__ == '__main__':\n",
    "    app.run(host='0.0.0.0')"
   ]
  },
  {
   "cell_type": "code",
   "execution_count": 11,
   "metadata": {},
   "outputs": [
    {
     "name": "stdout",
     "output_type": "stream",
     "text": [
      "Overwriting files/settings.py\n"
     ]
    }
   ],
   "source": [
    "%%writefile files/settings.py\n",
    "MONGO_HOST = 'localhost'\n",
    "MONGO_PORT = 27017\n",
    "\n",
    "# Skip these if your db has no auth. But it really should.\n",
    "\n",
    "MONGO_DBNAME = 'mydb'\n",
    "\n",
    "RESOURCE_METHODS = ['GET', 'POST', 'DELETE']\n",
    "\n",
    "schema = { 'ciudad': { 'type' : 'string' },\n",
    "           'superficie': { 'type': 'integer' },\n",
    "           'id' : {'type': 'string' } }\n",
    "casas = { 'schema': schema,\n",
    "          'additional_lookup': {\n",
    "                 'url': 'regex(\"[\\w]+\")',\n",
    "                 'field': 'superficie'\n",
    "           }\n",
    "        }\n",
    "\n",
    "DOMAIN = {'casas': casas }"
   ]
  },
  {
   "cell_type": "code",
   "execution_count": 12,
   "metadata": {},
   "outputs": [
    {
     "name": "stdout",
     "output_type": "stream",
     "text": [
      " * Running on http://0.0.0.0:5000/ (Press CTRL+C to quit)\n",
      "10.0.2.2 - - [16/Oct/2017 20:44:19] \"GET /casas/ HTTP/1.1\" 200 -\n",
      "^C\n"
     ]
    }
   ],
   "source": [
    "!/opt/anaconda/bin/python files/start.py"
   ]
  },
  {
   "cell_type": "markdown",
   "metadata": {
    "collapsed": true
   },
   "source": [
    "ahora accede:\n",
    "\n",
    "- http://localhost:5000/casas/\n",
    "- http://localhost:5000/casas/59e4de056e9928de92b98a91\n",
    "\n",
    "fíjate que este URL accede por superficie ya que así está configurado:\n",
    "\n",
    "http://localhost:5000/casas/90\n",
    "    "
   ]
  },
  {
   "cell_type": "markdown",
   "metadata": {},
   "source": [
    "# as a generic client\n",
    "\n",
    "ejecuta Eve desde un terminal en el directorio files\n",
    "\n",
    "    cd files\n",
    "    python start.py\n",
    "    \n",
    "fíjate como accedemos a Mongo a través de Eve **sin necesidad de saber de MongoDB**"
   ]
  },
  {
   "cell_type": "code",
   "execution_count": 14,
   "metadata": {},
   "outputs": [
    {
     "data": {
      "text/plain": [
       "{u'_created': u'Thu, 01 Jan 1970 00:00:00 GMT',\n",
       " u'_etag': u'5e76d3282efdf8515b531a5eee6d0cfadcf464b1',\n",
       " u'_id': u'59e4de056e9928de92b98a9e',\n",
       " u'_links': {u'collection': {u'href': u'casas', u'title': u'casas'},\n",
       "  u'parent': {u'href': u'/', u'title': u'home'},\n",
       "  u'self': {u'href': u'casas/59e4de056e9928de92b98a9e', u'title': u'Casa'}},\n",
       " u'_updated': u'Thu, 01 Jan 1970 00:00:00 GMT',\n",
       " u'ciudad': u'torino',\n",
       " u'id': 209182.0,\n",
       " u'superficie': 90.0}"
      ]
     },
     "execution_count": 14,
     "metadata": {},
     "output_type": "execute_result"
    }
   ],
   "source": [
    "import json\n",
    "import urllib2\n",
    "json.load(urllib2.urlopen(\"http://localhost:5000/casas/90\"))"
   ]
  },
  {
   "cell_type": "code",
   "execution_count": 28,
   "metadata": {
    "collapsed": true
   },
   "outputs": [],
   "source": [
    "r = json.load(urllib2.urlopen(\"http://localhost:5000/casas/\"))"
   ]
  },
  {
   "cell_type": "code",
   "execution_count": 29,
   "metadata": {},
   "outputs": [
    {
     "name": "stdout",
     "output_type": "stream",
     "text": [
      "209384.0 roma 120.0\n",
      "209387.0\n",
      "209398.0 roma\n",
      "209389.0 roma\n",
      "209289.0 madrid 89.0\n",
      "209182.0 torino 109.0\n",
      "209182.0 torino 10.0\n",
      "209182.0 torino 20.0\n",
      "209182.0 torino 30.0\n",
      "209182.0 torino 40.0\n",
      "209182.0 torino 50.0\n",
      "209182.0 torino 60.0\n",
      "209182.0 torino 70.0\n",
      "209182.0 torino 80.0\n",
      "209182.0 torino 90.0\n",
      "209182.0 torino 100.0\n",
      "209182.0 torino 110.0\n",
      "209182.0 torino 120.0\n",
      "209182.0 torino 130.0\n",
      "209182.0 torino 140.0\n",
      "209182.0 torino 150.0\n",
      "209182.0 torino 160.0\n",
      "209182.0 torino 170.0\n",
      "209182.0 torino 180.0\n",
      "209182.0 torino 190.0\n"
     ]
    }
   ],
   "source": [
    "for i in r[\"_items\"]:\n",
    "    if \"id\" in i.keys():\n",
    "        print i[\"id\"],\n",
    "    if \"ciudad\" in i.keys():\n",
    "        print i[\"ciudad\"],\n",
    "    if \"superficie\" in i.keys():\n",
    "        print i[\"superficie\"],\n",
    "    print \n",
    "\n"
   ]
  },
  {
   "cell_type": "code",
   "execution_count": null,
   "metadata": {
    "collapsed": true
   },
   "outputs": [],
   "source": []
  }
 ],
 "metadata": {
  "kernelspec": {
   "display_name": "Python 2",
   "language": "python",
   "name": "python2"
  },
  "language_info": {
   "codemirror_mode": {
    "name": "ipython",
    "version": 2
   },
   "file_extension": ".py",
   "mimetype": "text/x-python",
   "name": "python",
   "nbconvert_exporter": "python",
   "pygments_lexer": "ipython2",
   "version": "2.7.13"
  }
 },
 "nbformat": 4,
 "nbformat_minor": 1
}
