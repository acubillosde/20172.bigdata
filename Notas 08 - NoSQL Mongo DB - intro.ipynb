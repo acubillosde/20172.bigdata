{
 "cells": [
  {
   "cell_type": "markdown",
   "metadata": {},
   "source": [
    "# Introducción a mongodb\n",
    "\n",
    "la instalación de mongodb está en la máquina virtual del curso en\n",
    "\n",
    "    /opt/mongo\n",
    "    \n",
    "y los comandos están en el path.\n",
    "\n",
    "estamos usando mongo 3.0: https://docs.mongodb.com/v3.0/\n",
    "\n",
    "este tutorial se enfoca en el **USO** de mongodb. no en su **configuración** o **despliegue** en un cluster\n",
    "\n",
    "limpia el directorio de la base de datos y arranca el demonio\n",
    "\n",
    "    rm -rf /data/db/*\n",
    "    monngod\n",
    "\n",
    "conéctate con el CLI\n",
    "\n",
    "    mongo\n",
    "\n",
    "comandos (dbs y colecciones son creados de manera implícita y no tienen que tener una estructura predeterminada):\n",
    "\n",
    "    show dbs\n",
    "    use mydb\n",
    "    db.casas.insert({ \"id\": 209384, \"ciudad\": \"roma\", \"superficie\": 120})\n",
    "    db.casas.insert({ \"id\": 209387, \"propietaro\": \"giuseppe\", \"habitaciones\": 3})\n",
    "    db.casas.insert({ \"id\": 209398, \"hipoteca\": \"no\",  \"ciudad\": \"roma\"})    \n",
    "    db.casas.insert({ \"id\": 209389, \"ciudad\": \"roma\"})    \n",
    "    db.casas.insert({ \"id\": 209289, \"ciudad\": \"madrid\", \"superficie\": 89})\n",
    "    db.casas.insert({ \"id\": 209182, \"ciudad\": \"torino\", \"superficie\": 109})\n",
    "    \n",
    "    db.casas.find({\"ciudad\": \"roma\"})\n",
    "    db.casas.count( {\"superficie\": {$gt: 100}})    \n",
    "    \n",
    "    for (i=0; i<30; i++) { db.casas.insert({ \"id\": 209182, \"ciudad\": \"torino\", \"superficie\": i*10+10}) }    \n",
    "\n",
    "    db.casas.find()\n",
    "    it\n",
    "    \n",
    "    cursor = db.casas.find( {\"superficie\": {$gt: 100}})\n",
    "    cursor.next()\n",
    "    cursor.explain()\n",
    "    \n",
    "    \n",
    "    db.casas.drop()\n",
    "    \n",
    "revisa la doc de operaciones CRUD:  https://docs.mongodb.com/v3.0/core/crud-introduction/\n",
    "\n",
    "revisa operaciones agregadas: https://docs.mongodb.com/manual/aggregation/\n"
   ]
  },
  {
   "cell_type": "markdown",
   "metadata": {},
   "source": [
    "# `pymongo`\n",
    "\n",
    "see https://api.mongodb.com/python/current/tutorial.html"
   ]
  },
  {
   "cell_type": "code",
   "execution_count": 1,
   "metadata": {
    "collapsed": true
   },
   "outputs": [],
   "source": [
    "import pymongo as pm"
   ]
  },
  {
   "cell_type": "code",
   "execution_count": 4,
   "metadata": {},
   "outputs": [],
   "source": [
    "client = MongoClient('mongodb://localhost:27017/')"
   ]
  },
  {
   "cell_type": "code",
   "execution_count": 5,
   "metadata": {
    "collapsed": true
   },
   "outputs": [],
   "source": [
    "db = client.mydb"
   ]
  },
  {
   "cell_type": "code",
   "execution_count": 16,
   "metadata": {},
   "outputs": [],
   "source": [
    "c = db.casas.find()"
   ]
  },
  {
   "cell_type": "code",
   "execution_count": 17,
   "metadata": {},
   "outputs": [
    {
     "name": "stdout",
     "output_type": "stream",
     "text": [
      "{u'superficie': 120.0, u'ciudad': u'roma', u'_id': ObjectId('59e4de056e9928de92b98a90'), u'id': 209384.0}\n",
      "{u'propietaro': u'giuseppe', u'_id': ObjectId('59e4de056e9928de92b98a91'), u'habitaciones': 3.0, u'id': 209387.0}\n",
      "{u'ciudad': u'roma', u'_id': ObjectId('59e4de056e9928de92b98a92'), u'id': 209398.0, u'hipoteca': u'no'}\n",
      "{u'ciudad': u'roma', u'_id': ObjectId('59e4de056e9928de92b98a93'), u'id': 209389.0}\n",
      "{u'superficie': 89.0, u'ciudad': u'madrid', u'_id': ObjectId('59e4de056e9928de92b98a94'), u'id': 209289.0}\n",
      "{u'superficie': 109.0, u'ciudad': u'torino', u'_id': ObjectId('59e4de056e9928de92b98a95'), u'id': 209182.0}\n",
      "{u'superficie': 10.0, u'ciudad': u'torino', u'_id': ObjectId('59e4de056e9928de92b98a96'), u'id': 209182.0}\n",
      "{u'superficie': 20.0, u'ciudad': u'torino', u'_id': ObjectId('59e4de056e9928de92b98a97'), u'id': 209182.0}\n",
      "{u'superficie': 30.0, u'ciudad': u'torino', u'_id': ObjectId('59e4de056e9928de92b98a98'), u'id': 209182.0}\n",
      "{u'superficie': 40.0, u'ciudad': u'torino', u'_id': ObjectId('59e4de056e9928de92b98a99'), u'id': 209182.0}\n",
      "{u'superficie': 50.0, u'ciudad': u'torino', u'_id': ObjectId('59e4de056e9928de92b98a9a'), u'id': 209182.0}\n",
      "{u'superficie': 60.0, u'ciudad': u'torino', u'_id': ObjectId('59e4de056e9928de92b98a9b'), u'id': 209182.0}\n",
      "{u'superficie': 70.0, u'ciudad': u'torino', u'_id': ObjectId('59e4de056e9928de92b98a9c'), u'id': 209182.0}\n",
      "{u'superficie': 80.0, u'ciudad': u'torino', u'_id': ObjectId('59e4de056e9928de92b98a9d'), u'id': 209182.0}\n",
      "{u'superficie': 90.0, u'ciudad': u'torino', u'_id': ObjectId('59e4de056e9928de92b98a9e'), u'id': 209182.0}\n",
      "{u'superficie': 100.0, u'ciudad': u'torino', u'_id': ObjectId('59e4de056e9928de92b98a9f'), u'id': 209182.0}\n",
      "{u'superficie': 110.0, u'ciudad': u'torino', u'_id': ObjectId('59e4de056e9928de92b98aa0'), u'id': 209182.0}\n",
      "{u'superficie': 120.0, u'ciudad': u'torino', u'_id': ObjectId('59e4de056e9928de92b98aa1'), u'id': 209182.0}\n",
      "{u'superficie': 130.0, u'ciudad': u'torino', u'_id': ObjectId('59e4de056e9928de92b98aa2'), u'id': 209182.0}\n",
      "{u'superficie': 140.0, u'ciudad': u'torino', u'_id': ObjectId('59e4de056e9928de92b98aa3'), u'id': 209182.0}\n",
      "{u'superficie': 150.0, u'ciudad': u'torino', u'_id': ObjectId('59e4de056e9928de92b98aa4'), u'id': 209182.0}\n",
      "{u'superficie': 160.0, u'ciudad': u'torino', u'_id': ObjectId('59e4de056e9928de92b98aa5'), u'id': 209182.0}\n",
      "{u'superficie': 170.0, u'ciudad': u'torino', u'_id': ObjectId('59e4de056e9928de92b98aa6'), u'id': 209182.0}\n",
      "{u'superficie': 180.0, u'ciudad': u'torino', u'_id': ObjectId('59e4de056e9928de92b98aa7'), u'id': 209182.0}\n",
      "{u'superficie': 190.0, u'ciudad': u'torino', u'_id': ObjectId('59e4de056e9928de92b98aa8'), u'id': 209182.0}\n",
      "{u'superficie': 200.0, u'ciudad': u'torino', u'_id': ObjectId('59e4de056e9928de92b98aa9'), u'id': 209182.0}\n",
      "{u'superficie': 210.0, u'ciudad': u'torino', u'_id': ObjectId('59e4de056e9928de92b98aaa'), u'id': 209182.0}\n",
      "{u'superficie': 220.0, u'ciudad': u'torino', u'_id': ObjectId('59e4de056e9928de92b98aab'), u'id': 209182.0}\n",
      "{u'superficie': 230.0, u'ciudad': u'torino', u'_id': ObjectId('59e4de056e9928de92b98aac'), u'id': 209182.0}\n",
      "{u'superficie': 240.0, u'ciudad': u'torino', u'_id': ObjectId('59e4de056e9928de92b98aad'), u'id': 209182.0}\n",
      "{u'superficie': 250.0, u'ciudad': u'torino', u'_id': ObjectId('59e4de056e9928de92b98aae'), u'id': 209182.0}\n",
      "{u'superficie': 260.0, u'ciudad': u'torino', u'_id': ObjectId('59e4de056e9928de92b98aaf'), u'id': 209182.0}\n",
      "{u'superficie': 270.0, u'ciudad': u'torino', u'_id': ObjectId('59e4de056e9928de92b98ab0'), u'id': 209182.0}\n",
      "{u'superficie': 280.0, u'ciudad': u'torino', u'_id': ObjectId('59e4de056e9928de92b98ab1'), u'id': 209182.0}\n",
      "{u'superficie': 290.0, u'ciudad': u'torino', u'_id': ObjectId('59e4de056e9928de92b98ab2'), u'id': 209182.0}\n",
      "{u'superficie': 300.0, u'ciudad': u'torino', u'_id': ObjectId('59e4de056e9928de92b98ab3'), u'id': 209182.0}\n"
     ]
    }
   ],
   "source": [
    "for i in c:\n",
    "    print i"
   ]
  },
  {
   "cell_type": "markdown",
   "metadata": {},
   "source": [
    "## map-reduce"
   ]
  },
  {
   "cell_type": "code",
   "execution_count": 18,
   "metadata": {
    "collapsed": true
   },
   "outputs": [],
   "source": [
    "from bson.code import Code\n",
    "mapper = Code(\"\"\"\n",
    "               function () {\n",
    "                   emit(this.ciudad, this.superficie);\n",
    "               }\n",
    "               \"\"\")"
   ]
  },
  {
   "cell_type": "code",
   "execution_count": 35,
   "metadata": {
    "collapsed": true
   },
   "outputs": [],
   "source": [
    " reducer = Code(\"\"\"\n",
    "                function (key, values) {\n",
    "                  var total = 0;\n",
    "                  for (var i = 0; i < values.length; i++) {\n",
    "                    total += values[i];\n",
    "                  }\n",
    "                  return total;\n",
    "                }\n",
    "                \"\"\")"
   ]
  },
  {
   "cell_type": "code",
   "execution_count": 36,
   "metadata": {},
   "outputs": [],
   "source": [
    "result = db.casas.map_reduce(mapper, reducer, \"rr\")"
   ]
  },
  {
   "cell_type": "code",
   "execution_count": 37,
   "metadata": {},
   "outputs": [
    {
     "name": "stdout",
     "output_type": "stream",
     "text": [
      "{u'_id': None, u'value': None}\n",
      "{u'_id': u'madrid', u'value': 89.0}\n",
      "{u'_id': u'roma', u'value': 120.0}\n",
      "{u'_id': u'torino', u'value': 4759.0}\n"
     ]
    }
   ],
   "source": [
    "for doc in result.find():\n",
    "    print doc"
   ]
  },
  {
   "cell_type": "markdown",
   "metadata": {},
   "source": [
    "### Testing javascript\n",
    "\n",
    "use node.js command line through ipython magics to execute any javascript"
   ]
  },
  {
   "cell_type": "code",
   "execution_count": 62,
   "metadata": {},
   "outputs": [
    {
     "name": "stdout",
     "output_type": "stream",
     "text": [
      "hola some value adios\n",
      "name: Chris\n",
      "text is:  [ 'testing', 'from', '', 'js' ]\n",
      "0 'testing' 7\n",
      "1 'from' 4\n",
      "2 '' 0\n",
      "3 'js' 2\n"
     ]
    }
   ],
   "source": [
    "%%script node\n",
    "\n",
    "// a dictionary\n",
    "var a = {\n",
    "  FirstName: \"Chris\",\n",
    "  \"one\": 1,\n",
    "  1: \"some value\"\n",
    "};\n",
    "\n",
    "console.log(\"hola\", a[1], \"adios\")\n",
    "console.log(\"name:\", a.FirstName)\n",
    "\n",
    "// splitting text\n",
    "text = \"testing from  js\"\n",
    "\n",
    "var res = text.split(\" \")\n",
    "console.log(\"text is: \", res)\n",
    "\n",
    "for (i=0; i<res.length; i++) {\n",
    "    console.log(i,res[i], res[i].length)\n",
    "}"
   ]
  },
  {
   "cell_type": "code",
   "execution_count": null,
   "metadata": {
    "collapsed": true
   },
   "outputs": [],
   "source": []
  }
 ],
 "metadata": {
  "kernelspec": {
   "display_name": "Python 2",
   "language": "python",
   "name": "python2"
  },
  "language_info": {
   "codemirror_mode": {
    "name": "ipython",
    "version": 2
   },
   "file_extension": ".py",
   "mimetype": "text/x-python",
   "name": "python",
   "nbconvert_exporter": "python",
   "pygments_lexer": "ipython2",
   "version": "2.7.13"
  }
 },
 "nbformat": 4,
 "nbformat_minor": 1
}
