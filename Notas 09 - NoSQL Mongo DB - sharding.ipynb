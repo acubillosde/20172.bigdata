{
 "cells": [
  {
   "cell_type": "markdown",
   "metadata": {},
   "source": [
    "\n",
    "# Distributed mongodb\n",
    "\n",
    "see Sharding \n",
    "\n",
    "- https://docs.mongodb.com/v3.0/sharding/\n",
    "\n",
    "\n",
    "Understand shard keys and how to design queries that would route to only one shard based on the key\n",
    "\n",
    "Do the example here https://docs.mongodb.com/v3.0/tutorial/deploy-shard-cluster/ launching 1 config server and 3 shards:\n",
    "\n",
    "### setup\n",
    "\n",
    "prepare dirs:\n",
    "\n",
    "    mkdir /data/distributed/cfgsrv1    \n",
    "    mkdir /data/distributed/shard1\n",
    "    mkdir /data/distributed/shard2    \n",
    "    mkdir /data/distributed/shard3\n",
    "\n",
    "launch configsrv\n",
    "\n",
    "    mongod --configsvr --dbpath /data/distributed/cfgsrv1  --port 27019\n",
    "    \n",
    "launch router\n",
    "\n",
    "    mongos --configdb localhost:27019\n",
    "\n",
    "launch 3 mongo servers\n",
    "\n",
    "    mongod --port 27021 --dbpath /data/distributed/shard1\n",
    "    mongod --port 27022 --dbpath /data/distributed/shard2\n",
    "    mongod --port 27023 --dbpath /data/distributed/shard3\n",
    "\n",
    "\n",
    "use command line to register servers\n",
    "\n",
    "    mongo --host localhost --port 27017\n",
    "\n",
    "    sh.addShard( \"localhost:27021\" )\n",
    "    sh.addShard( \"localhost:27022\" )\n",
    "    sh.addShard( \"localhost:27023\" )\n",
    "    \n",
    "    exit();\n",
    "    \n",
    "check shard status\n",
    "\n",
    "    mongo --host localhost --port 27017\n",
    "    sh.status()"
   ]
  },
  {
   "cell_type": "markdown",
   "metadata": {
    "collapsed": true
   },
   "source": [
    "### sharding databases\n",
    "\n",
    "create a shared collections\n",
    "\n",
    "    mongo --host localhost --port 27017\n",
    "\n",
    "    use mydbs\n",
    "    sh.enableSharding(\"mydbs\")   \n",
    "   \n",
    "    sh.shardCollection(\"mydbs.casas\", { \"ciudad\": 1  } )\n",
    "    \n",
    "    for (i=0; i<30; i++) { db.casas.insert({ \"id\": 209182, \"ciudad\": \"torino\", \"superficie\": i*10+10}) }   \n",
    "    for (i=0; i<30; i++) { db.casas.insert({ \"id\": \"20918xx\", \"ciudad\": \"madrid\", \"superficie\": i*2+10}) }\n",
    "    for (i=0; i<10; i++) { db.casas.insert({ \"id\": 20912, \"ciudad\": \"roma\", \"superficie\": i*2+2}) }   \n",
    "    \n",
    "    db.casas.count()\n",
    "    \n",
    "    cursor = db.casas.find()\n",
    "    cursor.explain()\n",
    "    \n",
    "connect to each shard and inspect it\n",
    "\n",
    "    mongo --host localhost --port 27021\n",
    "    use mydbs\n",
    "    db.casas.count()\n",
    "    db.casas.find()\n",
    "    \n",
    "    mongo --host localhost --port 27022\n",
    "    use mydbs\n",
    "    db.casas.count()\n",
    "    db.casas.find()\n",
    "    \n",
    "    mongo --host localhost --port 27022\n",
    "    use mydbs\n",
    "    db.casas.count()\n",
    "    db.casas.find()"
   ]
  },
  {
   "cell_type": "code",
   "execution_count": null,
   "metadata": {
    "collapsed": true
   },
   "outputs": [],
   "source": []
  }
 ],
 "metadata": {
  "kernelspec": {
   "display_name": "Python 2",
   "language": "python",
   "name": "python2"
  },
  "language_info": {
   "codemirror_mode": {
    "name": "ipython",
    "version": 2
   },
   "file_extension": ".py",
   "mimetype": "text/x-python",
   "name": "python",
   "nbconvert_exporter": "python",
   "pygments_lexer": "ipython2",
   "version": "2.7.13"
  }
 },
 "nbformat": 4,
 "nbformat_minor": 1
}
