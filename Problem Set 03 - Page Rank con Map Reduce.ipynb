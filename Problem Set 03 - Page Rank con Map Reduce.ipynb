{
 "cells": [
  {
   "cell_type": "markdown",
   "metadata": {},
   "source": [
    "## Problem Set 3 - Page Rank con Map Reduce"
   ]
  },
  {
   "cell_type": "markdown",
   "metadata": {},
   "source": [
    "## <font style=\"color: red\"> Esta práctica contiene 4 ejercicios <!-- ONLY IN NOTEBOOK -->\n"
   ]
  },
  {
   "cell_type": "markdown",
   "metadata": {},
   "source": [
    "### Page Rank con una matriz dispersa de 20x20\n",
    "\n"
   ]
  },
  {
   "cell_type": "code",
   "execution_count": 1,
   "metadata": {},
   "outputs": [
    {
     "name": "stdout",
     "output_type": "stream",
     "text": [
      "vector propio con valor máximo analítico\n",
      "[-0.19532946+0.j -0.19833831+0.j -0.21649004+0.j -0.16433838+0.j\n",
      " -0.28851780+0.j -0.27638340+0.j -0.26202486+0.j -0.19745754+0.j\n",
      " -0.16266926+0.j -0.23864486+0.j -0.24993179+0.j -0.18453301+0.j\n",
      " -0.27001271+0.j -0.18672981+0.j -0.14275890+0.j -0.14292487+0.j\n",
      " -0.14546947+0.j -0.40539574+0.j -0.21292922+0.j -0.14831401+0.j]\n",
      "vector propio aproximado\n",
      "[ 0.19534315  0.19834715  0.2165232   0.16434167  0.28856729  0.27625016\n",
      "  0.26216663  0.19748993  0.16260712  0.23850855  0.24982118  0.18459605\n",
      "  0.27008984  0.18668251  0.14280103  0.14290898  0.14551093  0.40530022\n",
      "  0.21306148  0.14840999]\n"
     ]
    }
   ],
   "source": [
    "import numpy as np\n",
    "import numpy.linalg as la\n",
    "m=np.array([[0, 0, 0, 0, 2, 0, 1, 0, 1, 3, 0, 0, 0, 0, 0, 0, 0, 0, 0, 2],\n",
    "       [0, 2, 2, 1, 1, 0, 0, 0, 0, 2, 0, 0, 0, 0, 2, 0, 0, 0, 0, 0],\n",
    "       [0, 0, 0, 3, 0, 1, 0, 0, 0, 0, 0, 0, 0, 0, 1, 0, 0, 2, 1, 2],\n",
    "       [0, 0, 0, 0, 3, 3, 0, 0, 0, 0, 0, 0, 0, 0, 0, 0, 0, 0, 0, 0],\n",
    "       [0, 3, 0, 3, 0, 0, 1, 0, 0, 3, 0, 3, 0, 0, 1, 0, 0, 0, 1, 0],\n",
    "       [2, 3, 2, 0, 0, 0, 0, 3, 0, 0, 0, 3, 0, 0, 2, 0, 0, 0, 0, 0],\n",
    "       [0, 3, 0, 3, 0, 0, 0, 0, 0, 3, 3, 0, 0, 0, 0, 0, 0, 0, 0, 1],\n",
    "       [1, 0, 0, 3, 1, 0, 0, 0, 3, 0, 0, 0, 0, 0, 2, 2, 0, 0, 0, 0],\n",
    "       [3, 0, 0, 0, 0, 0, 3, 0, 1, 0, 0, 0, 0, 0, 1, 0, 0, 0, 0, 0],\n",
    "       [0, 0, 0, 0, 3, 0, 0, 0, 0, 0, 2, 0, 3, 0, 2, 0, 0, 0, 0, 0],\n",
    "       [0, 0, 0, 1, 0, 0, 0, 3, 0, 2, 0, 0, 2, 0, 0, 0, 1, 0, 1, 3],\n",
    "       [2, 0, 0, 0, 0, 0, 0, 0, 0, 1, 1, 0, 0, 0, 0, 0, 0, 2, 1, 0],\n",
    "       [3, 0, 0, 3, 0, 2, 0, 0, 1, 0, 0, 3, 0, 0, 0, 0, 3, 0, 0, 0],\n",
    "       [3, 0, 0, 0, 0, 0, 0, 0, 0, 1, 0, 0, 3, 0, 0, 0, 2, 0, 0, 0],\n",
    "       [0, 0, 0, 0, 0, 1, 0, 0, 0, 0, 1, 2, 0, 0, 0, 2, 2, 0, 0, 0],\n",
    "       [0, 0, 0, 0, 0, 0, 1, 1, 0, 0, 2, 2, 0, 0, 0, 0, 1, 0, 0, 0],\n",
    "       [3, 0, 0, 1, 0, 0, 0, 0, 0, 0, 3, 0, 0, 0, 0, 0, 0, 0, 0, 0],\n",
    "       [0, 0, 0, 3, 0, 3, 1, 3, 0, 0, 2, 1, 3, 0, 0, 0, 0, 0, 1, 2],\n",
    "       [0, 0, 0, 0, 0, 1, 0, 1, 0, 2, 0, 0, 0, 0, 0, 1, 2, 2, 0, 0],\n",
    "       [0, 0, 0, 0, 0, 0, 0, 0, 0, 2, 1, 0, 0, 2, 0, 3, 0, 0, 0, 0]])\n",
    "\n",
    "eigs = np.linalg.eig(m)\n",
    "max_eigen_index = np.argmax(eigs[0])\n",
    "evect = eigs[1][:,max_eigen_index]\n",
    "print \"vector propio con valor máximo analítico\"\n",
    "print evect\n",
    "print \"vector propio aproximado\"\n",
    "r = np.array([1,1,0,1,0,0,0,0,1,1,0,0,1,0,1,1,0,0,1,1]).astype(float)\n",
    "for i in range(10):\n",
    "    r = m.dot(r)\n",
    "print r/la.norm(r)"
   ]
  },
  {
   "cell_type": "markdown",
   "metadata": {},
   "source": [
    "### Ejercicio 1\n",
    "\n",
    "Adapta tu solución del último ejercicio del problemset anterior para que funcione con la matriz `M` y el vector `R_init` almacenados en el sistema de ficheros según puedes ver en la línea de comando.\n",
    "\n",
    "El resultado ha de guardarse en el directorio según se indica en la línea de comando\n",
    "\n",
    "**Resultado esperado**\n",
    "\n",
    "la salida esperada debe de ser la siguiente (no necesariamente en este orden):\n",
    "\n",
    "\n",
    "    \"r\"\t[0, 0, 6.0]\n",
    "    \"r\"\t[1, 0, 7.0]\n",
    "    \"r\"\t[10, 0, 9.0]\n",
    "    \"r\"\t[11, 0, 4.0]\n",
    "    \"r\"\t[12, 0, 7.0]\n",
    "    \"r\"\t[13, 0, 7.0]\n",
    "    \"r\"\t[14, 0, 2.0]\n",
    "    \"r\"\t[16, 0, 4.0]\n",
    "    \"r\"\t[17, 0, 9.0]\n",
    "    \"r\"\t[18, 0, 3.0]\n",
    "    \"r\"\t[19, 0, 5.0]\n",
    "    \"r\"\t[2, 0, 7.0]\n",
    "    \"r\"\t[4, 0, 11.0]\n",
    "    \"r\"\t[5, 0, 7.0]\n",
    "    \"r\"\t[6, 0, 10.0]\n",
    "    \"r\"\t[7, 0, 11.0]\n",
    "    \"r\"\t[8, 0, 5.0]\n",
    "    \"r\"\t[9, 0, 5.0]"
   ]
  },
  {
   "cell_type": "code",
   "execution_count": 2,
   "metadata": {},
   "outputs": [
    {
     "name": "stdout",
     "output_type": "stream",
     "text": [
      "Writing files/MatmultJSON.py\n"
     ]
    }
   ],
   "source": [
    "%%writefile files/MatmultJSON.py\n",
    "from mrjob.job import MRJob, JSONProtocol\n",
    "import json\n",
    "\n",
    "N=20 # dimension de las matrices a multiplicar\n",
    "\n",
    "class MatmultJSON(MRJob):\n",
    "    OUTPUT_PROTOCOL   = JSONProtocol\n",
    "    INPUT_PROTOCOL    = JSONProtocol\n",
    "    INTERNAL_PROTOCOL = JSONProtocol\n",
    "\n",
    "    def mapper(self, id, line):\n",
    "        y, x, val = line\n",
    "        # TU CODIGO AQUI\n",
    "        yield \"KEY\", \"VAL\"\n",
    "        \n",
    "    def reducer(self, key, values):\n",
    "        # TU CODIGO AQUI\n",
    "        yield \"KEY\", \"VAL\"\n",
    "        \n",
    "if __name__ == '__main__':\n",
    "    MatmultJSON.run()"
   ]
  },
  {
   "cell_type": "code",
   "execution_count": 3,
   "metadata": {
    "scrolled": false
   },
   "outputs": [
    {
     "name": "stdout",
     "output_type": "stream",
     "text": [
      "\"KEY\"\t\"VAL\"\n"
     ]
    }
   ],
   "source": [
    "%%script /opt/anaconda/bin/python files/MatmultJSON.py -q --output-dir data/matrices/R data/matrices/M data/matrices/R_init\n",
    "--"
   ]
  },
  {
   "cell_type": "markdown",
   "metadata": {},
   "source": [
    "### Ejercicio 2\n",
    "\n",
    "Ejecuta el la tarea del ejercicio anterior de forma que la entrada sean `data/matrices/M` y `data/matrices/R` (esta útlima el resultado del ejercicio anterior) y la salida se almacene en `data/matrices/R`(la misma que la entrada). Ejecuta el script **9 veces más** para un total de 10 junto con la anterior.\n",
    "\n",
    "**Resultado Esperado**\n",
    "\n",
    "    \"r\"\t[0, 0, 59247.0]\n",
    "    \"r\"\t[1, 0, 60580.0]\n",
    "    \"r\"\t[10, 0, 75625.0]\n",
    "    \"r\"\t[11, 0, 57245.0]\n",
    "    \"r\"\t[12, 0, 80571.0]\n",
    "    \"r\"\t[13, 0, 56694.0]\n",
    "    \"r\"\t[14, 0, 43471.0]\n",
    "    \"r\"\t[15, 0, 43369.0]\n",
    "    \"r\"\t[16, 0, 45387.0]\n",
    "    \"r\"\t[17, 0, 123466.0]\n",
    "    \"r\"\t[18, 0, 65879.0]\n",
    "    \"r\"\t[19, 0, 47101.0]\n",
    "    \"r\"\t[2, 0, 65079.0]\n",
    "    \"r\"\t[3, 0, 50616.0]\n",
    "    \"r\"\t[4, 0, 86210.0]\n",
    "    \"r\"\t[5, 0, 83829.0]\n",
    "    \"r\"\t[6, 0, 80688.0]\n",
    "    \"r\"\t[7, 0, 60008.0]\n",
    "    \"r\"\t[8, 0, 47942.0]\n",
    "    \"r\"\t[9, 0, 73577.0]"
   ]
  },
  {
   "cell_type": "code",
   "execution_count": null,
   "metadata": {
    "collapsed": true
   },
   "outputs": [],
   "source": [
    "%%script /opt/anaconda/bin/python files/MatmultJSON.py -q --output-dir data/matrices/R data/matrices/M data/matrices/R\n",
    "--"
   ]
  },
  {
   "cell_type": "markdown",
   "metadata": {},
   "source": [
    "### Ejercicio 3\n",
    "\n",
    "Realiza una tarea map reduce para que calcule la raíz cuadrada de la suma de todos los elementos al cuadrado de una matriz o vector.\n",
    "\n",
    "**Resultado esperado**\n",
    "\n",
    "    \"total\"\t304294.90998700587"
   ]
  },
  {
   "cell_type": "code",
   "execution_count": null,
   "metadata": {
    "collapsed": true
   },
   "outputs": [],
   "source": [
    "%%writefile files/summall.py\n",
    "from mrjob.job import MRJob, JSONProtocol\n",
    "import json\n",
    "import numpy as np\n",
    "\n",
    "N=20 # dimension de las matrices cuadradas a multiplicar\n",
    "\n",
    "class Sumall(MRJob):\n",
    "    OUTPUT_PROTOCOL = JSONProtocol\n",
    "    INPUT_PROTOCOL = JSONProtocol\n",
    "    INTERNAL_PROTOCOL = JSONProtocol\n",
    "\n",
    "    def mapper(self, id, line):\n",
    "        # TU CODIGO AQUI\n",
    "        yield \"KEY\", \"VAL\"\n",
    "        \n",
    "    def reducer(self, key, values):\n",
    "        # TU CODIGO AQUI\n",
    "        yield \"KEY\", \"VAL\"\n",
    "        \n",
    "if __name__ == '__main__':\n",
    "    Sumall.run()"
   ]
  },
  {
   "cell_type": "code",
   "execution_count": null,
   "metadata": {
    "collapsed": true
   },
   "outputs": [],
   "source": [
    "%%script /opt/anaconda/bin/python files/summall.py -q --output-dir data/matrices/ssum data/matrices/R\n",
    "--"
   ]
  },
  {
   "cell_type": "markdown",
   "metadata": {},
   "source": [
    "### Ejercicio 4\n",
    "\n",
    "Finalmente, divide todos los elementos del vector R obtenido en el Ejercicio 2, por el valor obtenido en el Ejercicio 3. El vector resultante debe de coincidir con los calculados en modo tradicional al principio de este problem set.\n",
    "\n",
    "**Resultado esperado**\n",
    "\n",
    "    \"r\"\t[0, 0, 0.1947025666730015]\n",
    "    \"r\"\t[1, 0, 0.1990831854617184]\n",
    "    \"r\"\t[10, 0, 0.24852535326085268]\n",
    "    \"r\"\t[11, 0, 0.18812342277576874]\n",
    "    \"r\"\t[12, 0, 0.2647793221498203]\n",
    "    \"r\"\t[13, 0, 0.1863126793754814]\n",
    "    \"r\"\t[14, 0, 0.14285812405424828]\n",
    "    \"r\"\t[15, 0, 0.14252292291662705]\n",
    "    \"r\"\t[16, 0, 0.14915464738446704]\n",
    "    \"r\"\t[17, 0, 0.4057445456622074]\n",
    "    \"r\"\t[18, 0, 0.2164972131897086]\n",
    "    \"r\"\t[19, 0, 0.1547873410107692]\n",
    "    \"r\"\t[2, 0, 0.21386818465934587]\n",
    "    \"r\"\t[3, 0, 0.1663386351160505]\n",
    "    \"r\"\t[4, 0, 0.28331068700321466]\n",
    "    \"r\"\t[5, 0, 0.27548604083972256]\n",
    "    \"r\"\t[6, 0, 0.2651638175723859]\n",
    "    \"r\"\t[7, 0, 0.19720343006250907]\n",
    "    \"r\"\t[8, 0, 0.15755110725331303]\n",
    "    \"r\"\t[9, 0, 0.24179504022312406]"
   ]
  },
  {
   "cell_type": "code",
   "execution_count": null,
   "metadata": {
    "collapsed": true
   },
   "outputs": [],
   "source": [
    "%%writefile files/normvect.py\n",
    "from mrjob.job import MRJob, JSONProtocol\n",
    "import json\n",
    "import numpy as np\n",
    "\n",
    "class Normvect(MRJob):\n",
    "    OUTPUT_PROTOCOL   = JSONProtocol\n",
    "    INPUT_PROTOCOL    = JSONProtocol\n",
    "    INTERNAL_PROTOCOL = JSONProtocol\n",
    "\n",
    "    def configure_options(self):\n",
    "        super(Normvect, self).configure_options()\n",
    "        self.add_file_option('--total')\n",
    "        \n",
    "    def mapper(self, id, line):\n",
    "        # TU CODIGO AQUI\n",
    "        yield \"KEY\", \"VAL\"\n",
    "        \n",
    "    def reducer(self, key, values):\n",
    "        # TU CODIGO AQUI\n",
    "        yield \"KEY\", \"VAL\"\n",
    "        \n",
    "if __name__ == '__main__':\n",
    "    Normvect.run()"
   ]
  },
  {
   "cell_type": "code",
   "execution_count": null,
   "metadata": {
    "collapsed": true
   },
   "outputs": [],
   "source": [
    "!/opt/anaconda/bin/python files/normvect.py -q --total `awk '{print $2;}' data/matrices/ssum/*`  --output-dir data/matrices/R_norm data/matrices/R"
   ]
  },
  {
   "cell_type": "markdown",
   "metadata": {},
   "source": [
    "Si quieres, vuelve a usar el script del ejercicio 2 para comprobar que la norma del vector propio resultante es efectivamente 1.0\n"
   ]
  },
  {
   "cell_type": "code",
   "execution_count": null,
   "metadata": {
    "collapsed": true
   },
   "outputs": [],
   "source": [
    "%%script /opt/anaconda/bin/python files/summall.py -q data/matrices/R_norm\n",
    "--"
   ]
  },
  {
   "cell_type": "code",
   "execution_count": null,
   "metadata": {
    "collapsed": true
   },
   "outputs": [],
   "source": []
  }
 ],
 "metadata": {
  "kernelspec": {
   "display_name": "Python 2",
   "language": "python",
   "name": "python2"
  },
  "language_info": {
   "codemirror_mode": {
    "name": "ipython",
    "version": 2
   },
   "file_extension": ".py",
   "mimetype": "text/x-python",
   "name": "python",
   "nbconvert_exporter": "python",
   "pygments_lexer": "ipython2",
   "version": "2.7.13"
  }
 },
 "nbformat": 4,
 "nbformat_minor": 1
}
