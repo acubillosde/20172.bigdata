{
 "cells": [
  {
   "cell_type": "markdown",
   "metadata": {},
   "source": [
    "# Problem set 07: NoSQL Mongo DB\n",
    "\n",
    "# Ejercicio 1\n",
    "\n",
    "realiza los siguientes tutoriales:\n",
    "\n",
    "- https://api.mongodb.com/python/current/tutorial.html\n",
    "- https://api.mongodb.com/python/current/examples/geo.html\n",
    "- https://docs.mongodb.com/manual/tutorial/aggregation-zip-code-data-set/"
   ]
  },
  {
   "cell_type": "markdown",
   "metadata": {
    "collapsed": true
   },
   "source": [
    "# Ejercicio 2\n",
    "\n",
    "realiza los ejercicios mapreduce del problem set 01\n",
    "\n",
    "observa cómo insertamos el texto como una colección de líneas en MongoDB"
   ]
  },
  {
   "cell_type": "code",
   "execution_count": null,
   "metadata": {
    "collapsed": true
   },
   "outputs": [],
   "source": [
    "text = \"\"\"Ancient influences have helped spawn variant interpretations \n",
    "of the nature of history which have evolved over the centuries \n",
    "and continue to change today. The modern study of history is \n",
    "wide-ranging, and includes the study of specific regions and \n",
    "the study of certain topical or thematical elements of \n",
    "historical investigation. Often history is taught as part of \n",
    "primary and secondary education, and the academic study of \n",
    "history is a major discipline in University studies\"\"\""
   ]
  },
  {
   "cell_type": "code",
   "execution_count": null,
   "metadata": {
    "collapsed": true
   },
   "outputs": [],
   "source": [
    "text = text.split(\"\\n\")"
   ]
  },
  {
   "cell_type": "code",
   "execution_count": null,
   "metadata": {
    "collapsed": true
   },
   "outputs": [],
   "source": [
    "import pymongo as pm\n",
    "client = pm.MongoClient('mongodb://localhost:27017/')\n",
    "db = client.mydb"
   ]
  },
  {
   "cell_type": "code",
   "execution_count": null,
   "metadata": {
    "collapsed": true
   },
   "outputs": [],
   "source": [
    "result = db.texts.insert_many([{\"line_id\":str(i), \"text\": text[i]} for i in range(len(text))])"
   ]
  },
  {
   "cell_type": "code",
   "execution_count": null,
   "metadata": {},
   "outputs": [],
   "source": [
    "result.acknowledged"
   ]
  },
  {
   "cell_type": "code",
   "execution_count": null,
   "metadata": {},
   "outputs": [],
   "source": [
    "for i in db.texts.find():\n",
    "    print i[\"line_id\"]+\":\", i[\"text\"]"
   ]
  },
  {
   "cell_type": "markdown",
   "metadata": {},
   "source": [
    "### MR ejercicio 1. Estadística de texto"
   ]
  },
  {
   "cell_type": "code",
   "execution_count": null,
   "metadata": {},
   "outputs": [],
   "source": [
    "from bson.code import Code\n",
    "mapper = Code(\"\"\"\n",
    "               function () {\n",
    "                ... TU CODIGO ...\n",
    "               }\n",
    "               \"\"\")\n",
    "\n",
    "reducer = Code(\"\"\"\n",
    "                function (key, values) {\n",
    "                   \n",
    "                ... TU CODIGO ....\n",
    "                }\n",
    "                \"\"\")\n",
    "result = db.texts.map_reduce(mapper, reducer, \"rr\")\n",
    "for doc in result.find():\n",
    "    print doc"
   ]
  },
  {
   "cell_type": "markdown",
   "metadata": {},
   "source": [
    "### MR ejercicio 2. Conteo de palabras"
   ]
  },
  {
   "cell_type": "code",
   "execution_count": null,
   "metadata": {},
   "outputs": [],
   "source": [
    "... COMPLETA EL EJERCICIO ..."
   ]
  },
  {
   "cell_type": "markdown",
   "metadata": {},
   "source": [
    "### MR ejercicio 3. Número medio de palabras por línea"
   ]
  },
  {
   "cell_type": "code",
   "execution_count": null,
   "metadata": {},
   "outputs": [],
   "source": [
    "... COMPLETA EL EJERCICIO ..."
   ]
  },
  {
   "cell_type": "markdown",
   "metadata": {},
   "source": [
    "# Ejercicio 3\n",
    "\n",
    "crea una configuración con 3 shards y diseña una colección de ejemplo de forma que distribuya las claves equilibradamente entre los 3 shards.\n",
    "\n",
    "tu colección ha de tener al menos 1000 entradas en total\n",
    "\n",
    "# Ejercicio 4 (no obligatorio)\n",
    "\n",
    "crea un servicio REST sobre tu colección"
   ]
  },
  {
   "cell_type": "code",
   "execution_count": null,
   "metadata": {
    "collapsed": true
   },
   "outputs": [],
   "source": []
  }
 ],
 "metadata": {
  "kernelspec": {
   "display_name": "Python 2",
   "language": "python",
   "name": "python2"
  },
  "language_info": {
   "codemirror_mode": {
    "name": "ipython",
    "version": 2
   },
   "file_extension": ".py",
   "mimetype": "text/x-python",
   "name": "python",
   "nbconvert_exporter": "python",
   "pygments_lexer": "ipython2",
   "version": "2.7.13"
  }
 },
 "nbformat": 4,
 "nbformat_minor": 1
}
